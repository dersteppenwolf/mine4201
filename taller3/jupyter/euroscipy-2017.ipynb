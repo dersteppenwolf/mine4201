{
 "cells": [
  {
   "cell_type": "markdown",
   "metadata": {},
   "source": [
    "# FluRS - A Library for Streaming Recommendation Algorithms\n",
    "\n",
    "This notebook provides code snippets and supplemental information for [Takuya Kitazawa](https://takuti.me/about/)'s talk at [EuroSciPy 2017](https://www.euroscipy.org/2017/).\n",
    "\n",
    "First and foremost, let's import the fundamental \"SciPy\" tools here:"
   ]
  },
  {
   "cell_type": "code",
   "execution_count": 1,
   "metadata": {
    "collapsed": true
   },
   "outputs": [],
   "source": [
    "%matplotlib inline\n",
    "import matplotlib.pyplot as plt\n",
    "\n",
    "import numpy as np\n",
    "import numpy.linalg as ln"
   ]
  },
  {
   "cell_type": "markdown",
   "metadata": {},
   "source": [
    "## Past: The era of user-item matrix\n",
    "\n",
    "At the beginning, consider the following tiny user-item matrix:"
   ]
  },
  {
   "cell_type": "code",
   "execution_count": 2,
   "metadata": {
    "collapsed": true
   },
   "outputs": [],
   "source": [
    "# 5 users * 6 items\n",
    "R = np.array([[5, 0, 1, 1, 0, 2],\n",
    "              [0, 2, 0, 4, 0, 4],\n",
    "              [4, 5, 0, 1, 1, 2],\n",
    "              [0, 0, 3, 5, 2, 0],\n",
    "              [2, 0, 1, 0, 4, 4]])"
   ]
  },
  {
   "cell_type": "markdown",
   "metadata": {},
   "source": [
    "### Collaborative Filtering (CF; k-Nearest-Neighbors)\n",
    "\n",
    "- Compute similarities between users and items\n",
    "- Recommend based on the users who have the same taste"
   ]
  },
  {
   "cell_type": "code",
   "execution_count": 3,
   "metadata": {},
   "outputs": [],
   "source": [
    "def similarity(x, y):\n",
    "    return np.inner(x, y) / (ln.norm(x, ord=2) * ln.norm(y, ord=2))"
   ]
  },
  {
   "cell_type": "code",
   "execution_count": 4,
   "metadata": {},
   "outputs": [
    {
     "data": {
      "text/plain": [
       "0.35921060405354982"
      ]
     },
     "execution_count": 4,
     "metadata": {},
     "output_type": "execute_result"
    }
   ],
   "source": [
    "similarity(R[0], R[1])  # user a <-> user b"
   ]
  },
  {
   "cell_type": "code",
   "execution_count": 5,
   "metadata": {},
   "outputs": [
    {
     "data": {
      "text/plain": [
       "0.65495314632780777"
      ]
     },
     "execution_count": 5,
     "metadata": {},
     "output_type": "execute_result"
    }
   ],
   "source": [
    "similarity(R[0], R[2])  # user a <-> user c"
   ]
  },
  {
   "cell_type": "markdown",
   "metadata": {},
   "source": [
    "We can infer that, for user **a**, user **c** has more similar taste thatn user **b**."
   ]
  },
  {
   "cell_type": "markdown",
   "metadata": {},
   "source": [
    "### Singular Value Decomposition (SVD)\n",
    "\n",
    "- Fill missing values in the original matrix\n",
    "- Recommend based on the estimated values"
   ]
  },
  {
   "cell_type": "code",
   "execution_count": 6,
   "metadata": {},
   "outputs": [],
   "source": [
    "U, s, V = ln.svd(R, full_matrices=False)"
   ]
  },
  {
   "cell_type": "code",
   "execution_count": 7,
   "metadata": {},
   "outputs": [
    {
     "data": {
      "text/plain": [
       "array([[ 3.19741238,  1.98064059,  0.19763307,  0.50430074,  1.04148574,\n",
       "         2.47123826],\n",
       "       [ 1.20450954,  1.18625722,  1.50361641,  3.5812116 ,  1.61569345,\n",
       "         2.37803076],\n",
       "       [ 4.36792826,  2.68465163,  0.20157659,  0.52659617,  1.36419993,\n",
       "         3.30665072],\n",
       "       [-0.94009727,  0.07701659,  2.08296828,  4.93223799,  1.52652414,\n",
       "         1.44132726],\n",
       "       [ 2.67985286,  1.80342544,  0.63125085,  1.52750202,  1.27145836,\n",
       "         2.54266834]])"
      ]
     },
     "execution_count": 7,
     "metadata": {},
     "output_type": "execute_result"
    }
   ],
   "source": [
    "# represent user/item characteristics in a lower dimensional space\n",
    "k = 2\n",
    "\n",
    "np.dot(np.dot(U[:, :k], np.diag(s[:k])), V[:k, :])  # estimated user-item matrix"
   ]
  },
  {
   "cell_type": "markdown",
   "metadata": {},
   "source": [
    "Since missing values in the original matrix has been filled, the valus can be used to predict how a user likely to interests with an item."
   ]
  },
  {
   "cell_type": "markdown",
   "metadata": {},
   "source": [
    "### Matrix Factorization (MF)\n",
    "\n",
    "- Improve SVD's feasibility and performance\n",
    "- Meaningless \"zero\"s are completely ignored"
   ]
  },
  {
   "cell_type": "code",
   "execution_count": 8,
   "metadata": {
    "collapsed": true
   },
   "outputs": [],
   "source": [
    "n_user, n_item = R.shape\n",
    "\n",
    "# represent user/item characteristics in a lower dimensional space\n",
    "k = 2\n",
    "\n",
    "# gess random user/item factors\n",
    "P = np.random.rand(n_user, k)\n",
    "Q = np.random.rand(n_item, k)"
   ]
  },
  {
   "cell_type": "code",
   "execution_count": 9,
   "metadata": {
    "collapsed": true
   },
   "outputs": [],
   "source": [
    "for user in range(n_user):\n",
    "    for item in range(n_item):\n",
    "        if R[user, item] == 0:  # ignore zeros\n",
    "            continue\n",
    "\n",
    "        p, q = P[user], Q[item]\n",
    "\n",
    "        err = R[user, item] - np.inner(p, q)  # estimation error\n",
    "\n",
    "        # adjust factors based on the estimation error\n",
    "        # yes, it's gradient descent!\n",
    "        # `0.1` is learning rate, and `0.01` is regularization parameter\n",
    "        next_p = p - 0.1 * (-2. * (err * q - 0.01 * p))\n",
    "        next_q = q - 0.1 * (-2. * (err * p - 0.01 * q))\n",
    "        \n",
    "        P[user], Q[user] = next_p, next_q"
   ]
  },
  {
   "cell_type": "code",
   "execution_count": 10,
   "metadata": {},
   "outputs": [
    {
     "data": {
      "text/plain": [
       "array([[ 1.92446381,  2.73360623,  1.27773199,  1.37483882,  2.81655903,\n",
       "         1.71409787],\n",
       "       [ 1.84394518,  2.56750642,  1.24881087,  1.3169581 ,  2.72251093,\n",
       "         1.6542269 ],\n",
       "       [ 2.67019761,  3.70145911,  1.8162267 ,  1.90695881,  3.95003891,\n",
       "         2.39925182],\n",
       "       [ 2.52771656,  3.42530305,  1.7566224 ,  1.80465948,  3.77544498,\n",
       "         2.28923944],\n",
       "       [ 2.48612615,  3.31255891,  1.75446764,  1.7745757 ,  3.7392629 ,\n",
       "         2.26448566]])"
      ]
     },
     "execution_count": 10,
     "metadata": {},
     "output_type": "execute_result"
    }
   ],
   "source": [
    "np.dot(P, Q.T)  # estimated user-item matrix"
   ]
  },
  {
   "cell_type": "markdown",
   "metadata": {},
   "source": [
    "## Present: Streamed complex user-item data\n",
    "\n",
    "- Particularly focus on **implicit feedback recommendation**\n",
    "    - Create model based on \"actions\" such as buy, watch, listen and click, rather than \"rating value\"\n",
    "- **FluRS** provides an easy and structured way to implement such recommender"
   ]
  },
  {
   "cell_type": "markdown",
   "metadata": {},
   "source": [
    "### Unified data representation"
   ]
  },
  {
   "cell_type": "markdown",
   "metadata": {},
   "source": [
    "In order to provide unified interface to a wide variety of real-world data, FluRS requests you to define `user`, `item` and `event`, components which are fed into recommender system, as follows:"
   ]
  },
  {
   "cell_type": "code",
   "execution_count": 12,
   "metadata": {},
   "outputs": [
    {
     "name": "stdout",
     "output_type": "stream",
     "text": [
      "\u001b[33mThe directory '/Users/ivanmatis/Library/Caches/pip/http' or its parent directory is not owned by the current user and the cache has been disabled. Please check the permissions and owner of that directory. If executing pip with sudo, you may want sudo's -H flag.\u001b[0m\n",
      "\u001b[33mThe directory '/Users/ivanmatis/Library/Caches/pip' or its parent directory is not owned by the current user and caching wheels has been disabled. check the permissions and owner of that directory. If executing pip with sudo, you may want sudo's -H flag.\u001b[0m\n",
      "Collecting flurs\n",
      "  Downloading flurs-0.0.2.tar.gz\n",
      "Requirement already satisfied: numpy in /Users/ivanmatis/anaconda3/lib/python3.6/site-packages (from flurs)\n",
      "Requirement already satisfied: scipy in /Users/ivanmatis/anaconda3/lib/python3.6/site-packages (from flurs)\n",
      "Requirement already satisfied: scikit_learn in /Users/ivanmatis/anaconda3/lib/python3.6/site-packages (from flurs)\n",
      "Collecting mmh3 (from flurs)\n",
      "  Downloading mmh3-2.5.1.tar.gz\n",
      "Installing collected packages: mmh3, flurs\n",
      "  Running setup.py install for mmh3 ... \u001b[?25ldone\n",
      "\u001b[?25h  Running setup.py install for flurs ... \u001b[?25ldone\n",
      "\u001b[?25hSuccessfully installed flurs-0.0.2 mmh3-2.5.1\n"
     ]
    }
   ],
   "source": [
    "!pip install flurs"
   ]
  },
  {
   "cell_type": "code",
   "execution_count": 13,
   "metadata": {},
   "outputs": [],
   "source": [
    "from flurs.data.entity import User, Item, Event"
   ]
  },
  {
   "cell_type": "code",
   "execution_count": 42,
   "metadata": {},
   "outputs": [],
   "source": [
    "# define a user with index 0\n",
    "user = User(0)\n",
    "user4 = User(4)\n",
    "\n",
    "# define an item with index 0\n",
    "item = Item(0)\n",
    "\n",
    "# interaction between a user and item\n",
    "# e.g., a user bought an item\n",
    "event = Event(user, item)\n",
    "event4 = Event(user4, item)"
   ]
  },
  {
   "cell_type": "markdown",
   "metadata": {},
   "source": [
    "For more complex input, `user` and `item` can be defined with its features in a vector form. For instance, user's demographics such as age and sex, and item properties like category and price are considered as the \"features.\"\n",
    "\n",
    "Moreover, you can set contextual information (e.g., time, location, distance) to `event`."
   ]
  },
  {
   "cell_type": "code",
   "execution_count": 15,
   "metadata": {
    "collapsed": true
   },
   "outputs": [],
   "source": [
    "# define a user with his/her feature set\n",
    "user = User(0, feature=np.array([0, 0, 1]))\n",
    "\n",
    "# define an item with its properties\n",
    "item = Item(0, feature=np.array([2, 1, 1]))\n",
    "\n",
    "# interaction between a user and item under a certain context\n",
    "event = Event(user, item, context=np.array([0, 4, 0]))"
   ]
  },
  {
   "cell_type": "markdown",
   "metadata": {},
   "source": [
    "### Same interface regardless of internal algorithms\n",
    "\n",
    "It is certainly the scikit-learn's way! We mostly hit `fit` and `predict` on scikit-learn.\n",
    "\n",
    "To give an example, let us launch `Popular` recommender which simply returns the most popular items over every users. This kind of naive (but it works!) recommendation logic is called \"non-personalized recommender systems.\"\n",
    "\n",
    "First, define additional set of users and items as follows:"
   ]
  },
  {
   "cell_type": "code",
   "execution_count": 43,
   "metadata": {
    "collapsed": true
   },
   "outputs": [],
   "source": [
    "user_a = User(0, feature=np.array([0, 0, 1]))\n",
    "user_b = User(1, feature=np.array([1, 0, 1]))\n",
    "user_c = User(2, feature=np.array([1, 3, 1]))\n",
    "user_d = User(5, feature=np.array([1, 2, 1]))"
   ]
  },
  {
   "cell_type": "code",
   "execution_count": 17,
   "metadata": {
    "collapsed": true
   },
   "outputs": [],
   "source": [
    "item_a = Item(0, feature=np.array([2, 1, 1]))\n",
    "item_b = Item(1, feature=np.array([0, 2, 1]))"
   ]
  },
  {
   "cell_type": "markdown",
   "metadata": {},
   "source": [
    "Second, create a new recommendation instance and initialize it:"
   ]
  },
  {
   "cell_type": "code",
   "execution_count": 18,
   "metadata": {},
   "outputs": [],
   "source": [
    "from flurs.baseline.popular import Popular"
   ]
  },
  {
   "cell_type": "code",
   "execution_count": 44,
   "metadata": {
    "collapsed": true
   },
   "outputs": [],
   "source": [
    "recommender = Popular()\n",
    "recommender.initialize()"
   ]
  },
  {
   "cell_type": "markdown",
   "metadata": {},
   "source": [
    "Next, in a mannar of **dependency injection**, register potential user and item to the recommender:"
   ]
  },
  {
   "cell_type": "code",
   "execution_count": 45,
   "metadata": {},
   "outputs": [],
   "source": [
    "recommender.register(user_a)\n",
    "recommender.register(user_b)\n",
    "recommender.register(user_c)\n",
    "recommender.register(user_d)"
   ]
  },
  {
   "cell_type": "code",
   "execution_count": 46,
   "metadata": {
    "collapsed": true
   },
   "outputs": [],
   "source": [
    "recommender.register(item_a)\n",
    "recommender.register(item_b)"
   ]
  },
  {
   "cell_type": "markdown",
   "metadata": {},
   "source": [
    "Now, we are ready to launch recommendation! Let's feed a couple of events to the recommender:"
   ]
  },
  {
   "cell_type": "code",
   "execution_count": 48,
   "metadata": {},
   "outputs": [],
   "source": [
    "recommender.update(Event(user_a, item_b))\n",
    "recommender.update(Event(user_b, item_b))\n",
    "recommender.update(Event(user_a, item_a))\n",
    "recommender.update(Event(user_d, item_a))"
   ]
  },
  {
   "cell_type": "markdown",
   "metadata": {
    "collapsed": true
   },
   "source": [
    "Obviously, `item_b` (i.e., item indexed by `1`) is the most popular, so the item should be recommended to `user_c` in the following case:"
   ]
  },
  {
   "cell_type": "code",
   "execution_count": 49,
   "metadata": {},
   "outputs": [
    {
     "data": {
      "text/plain": [
       "(array([1, 0]), array([ 4.,  3.]))"
      ]
     },
     "execution_count": 49,
     "metadata": {},
     "output_type": "execute_result"
    }
   ],
   "source": [
    "# specify target user and list of item candidates' indices\n",
    "candicates = np.array([0, 1])  # item a and b\n",
    "recommender.recommend(user_c, candicates)  # => (sorted item indices, scores)"
   ]
  },
  {
   "cell_type": "markdown",
   "metadata": {},
   "source": [
    "Note that the score indicates the frequency of corresponding item on the `Popular` recommender.\n",
    "\n",
    "Even if you choose a different recommender, you use it in the same mannar. Following code tries to launch incremental variant of matrix factorization on the previous data:"
   ]
  },
  {
   "cell_type": "code",
   "execution_count": 24,
   "metadata": {
    "collapsed": true
   },
   "outputs": [],
   "source": [
    "from flurs.recommender.mf import MFRecommender"
   ]
  },
  {
   "cell_type": "code",
   "execution_count": 50,
   "metadata": {},
   "outputs": [
    {
     "data": {
      "text/plain": [
       "array([1, 0])"
      ]
     },
     "execution_count": 50,
     "metadata": {},
     "output_type": "execute_result"
    }
   ],
   "source": [
    "# initialize a recommendation instance\n",
    "recommender = MFRecommender(k=40)\n",
    "recommender.initialize()\n",
    "\n",
    "# register users and items\n",
    "recommender.register(user_a)\n",
    "recommender.register(user_b)\n",
    "recommender.register(user_c)\n",
    "recommender.register(user_d)\n",
    "\n",
    "recommender.register(item_a)\n",
    "recommender.register(item_b)\n",
    "\n",
    "# feed some events\n",
    "recommender.update(Event(user_a, item_b))\n",
    "recommender.update(Event(user_b, item_b))\n",
    "recommender.update(Event(user_a, item_a))\n",
    "\n",
    "# make recommendation to `user_c`\n",
    "candidates = np.array([0, 1])\n",
    "recommended_items, scores = recommender.recommend(user_c, candidates)\n",
    "recommended_items"
   ]
  },
  {
   "cell_type": "markdown",
   "metadata": {},
   "source": [
    "Internally, FluRS separates recommender-specific functionality from core algorithm implementation. So, implementing a new recommendation algorithm on the package is not so complicated."
   ]
  },
  {
   "cell_type": "markdown",
   "metadata": {},
   "source": [
    "### Incremental evaluation scheme"
   ]
  },
  {
   "cell_type": "markdown",
   "metadata": {},
   "source": [
    "FluRS enables you to evaluate recommendation engine in a streaming environment by following to \"**[test-then-learn](http://link.springer.com/chapter/10.1007/978-3-319-08786-3_41)**\" shecme. In short, the evaluation framework first trains recommendation model by using initial 30% of samples in a batch fashion. After that, for the remaining 70% of samples, recommender sequentially launches top-N recommendation and check if observed item is correctly included in a recommendation list.\n",
    "\n",
    "For instance, let us initialize a `UserKNNRecommender` (i.e., CF recommender):"
   ]
  },
  {
   "cell_type": "code",
   "execution_count": 27,
   "metadata": {
    "collapsed": true
   },
   "outputs": [],
   "source": [
    "from flurs.recommender.user_knn import UserKNNRecommender"
   ]
  },
  {
   "cell_type": "code",
   "execution_count": 28,
   "metadata": {
    "collapsed": true
   },
   "outputs": [],
   "source": [
    "recommender = MFRecommender(k=3)  # consider 3 nearest-neighbors\n",
    "recommender.initialize()"
   ]
  },
  {
   "cell_type": "markdown",
   "metadata": {},
   "source": [
    "In order to launch evaluation on a little bit more large-scale data, here we define 10000 users and items, and register them to the recommender:"
   ]
  },
  {
   "cell_type": "code",
   "execution_count": 29,
   "metadata": {
    "collapsed": true
   },
   "outputs": [],
   "source": [
    "users = [User(u) for u in range(10000)]\n",
    "for user in users:\n",
    "    recommender.register(user)"
   ]
  },
  {
   "cell_type": "code",
   "execution_count": 30,
   "metadata": {},
   "outputs": [],
   "source": [
    "items = [Item(i) for i in range(10000)]\n",
    "for item in items:\n",
    "    recommender.register(item)"
   ]
  },
  {
   "cell_type": "markdown",
   "metadata": {},
   "source": [
    "Next, the recommender is injected to `Evaluator` as:"
   ]
  },
  {
   "cell_type": "code",
   "execution_count": 31,
   "metadata": {
    "collapsed": true
   },
   "outputs": [],
   "source": [
    "from flurs.evaluator import Evaluator"
   ]
  },
  {
   "cell_type": "code",
   "execution_count": 32,
   "metadata": {
    "collapsed": true
   },
   "outputs": [],
   "source": [
    "evaluator = Evaluator(recommender)"
   ]
  },
  {
   "cell_type": "markdown",
   "metadata": {},
   "source": [
    "Based on the 10000 users and items, randomly create 1000 events:"
   ]
  },
  {
   "cell_type": "code",
   "execution_count": 33,
   "metadata": {
    "collapsed": true
   },
   "outputs": [],
   "source": [
    "random_interactions = zip(np.random.choice(users, 1000), np.random.choice(items, 1000))\n",
    "events = [Event(u, i) for u, i in random_interactions]"
   ]
  },
  {
   "cell_type": "markdown",
   "metadata": {},
   "source": [
    "For the initial 30% of events, launch batch training on a recommender, and following 20% of samples are used to validate the accuracy of recommendation as a result batch training:"
   ]
  },
  {
   "cell_type": "code",
   "execution_count": 34,
   "metadata": {},
   "outputs": [],
   "source": [
    "evaluator.fit(events[:300], events[300:500])"
   ]
  },
  {
   "cell_type": "markdown",
   "metadata": {},
   "source": [
    "Define a window with a certain size, and sequentially evaluate the remaining 70% of events:"
   ]
  },
  {
   "cell_type": "code",
   "execution_count": 35,
   "metadata": {},
   "outputs": [],
   "source": [
    "from collections import deque\n",
    "window = deque(maxlen=200)"
   ]
  },
  {
   "cell_type": "code",
   "execution_count": 36,
   "metadata": {},
   "outputs": [],
   "source": [
    "accuracy = []\n",
    "for top_score, rank, recommend_time, update_time in evaluator.evaluate(events[300:]):\n",
    "    window.append(int(rank < 10))  # consider top-10 recommendation\n",
    "    accuracy.append(sum(window) / len(window))"
   ]
  },
  {
   "cell_type": "markdown",
   "metadata": {},
   "source": [
    "Plotting variation of the accuracy of recommendation is insightful, isn't it? :)"
   ]
  },
  {
   "cell_type": "code",
   "execution_count": 37,
   "metadata": {},
   "outputs": [
    {
     "data": {
      "text/plain": [
       "<matplotlib.text.Text at 0x10f153e80>"
      ]
     },
     "execution_count": 37,
     "metadata": {},
     "output_type": "execute_result"
    },
    {
     "data": {
      "image/png": "[encoded data removed]",
      "text/plain": [
       "<matplotlib.figure.Figure at 0x10f123b70>"
      ]
     },
     "metadata": {},
     "output_type": "display_data"
    }
   ],
   "source": [
    "plt.plot(accuracy)\n",
    "plt.xlabel('sample index (time)')\n",
    "plt.ylabel('recall (window size = 200)')"
   ]
  },
  {
   "cell_type": "markdown",
   "metadata": {},
   "source": [
    "### Feature-based recommendation\n",
    "\n",
    "In the above examples, even if we create `User` and `Item` instances with `feature`, the classical recommenders cannot handle the auxiliary information. So, let us try alternative feature-based recommender. In particular, `FMRecommender` is a recommender based on one of the most famous recommendation techniques named [Factorization Machines](http://dl.acm.org/citation.cfm?id=2168771) (FMs).\n",
    "\n",
    "We need to pass the number of dimensions of feature vector as `p=8`. In this case, our feature vector will have 8 different elements (3 from user, 3 from item, and 2 from context)."
   ]
  },
  {
   "cell_type": "code",
   "execution_count": 38,
   "metadata": {},
   "outputs": [],
   "source": [
    "from flurs.recommender.fm import FMRecommender"
   ]
  },
  {
   "cell_type": "code",
   "execution_count": 39,
   "metadata": {},
   "outputs": [],
   "source": [
    "# initialize a recommendation instance\n",
    "recommender = FMRecommender(p=8, k=2)\n",
    "recommender.initialize()"
   ]
  },
  {
   "cell_type": "markdown",
   "metadata": {},
   "source": [
    "User/item registration and incremental updating are completely same as what we did before (but don't forget to put `context=...` to define an `Event` instance):"
   ]
  },
  {
   "cell_type": "code",
   "execution_count": 40,
   "metadata": {
    "collapsed": true
   },
   "outputs": [],
   "source": [
    "# register users and items\n",
    "recommender.register(user_a)\n",
    "recommender.register(user_b)\n",
    "recommender.register(user_c)\n",
    "\n",
    "recommender.register(item_a)\n",
    "recommender.register(item_b)\n",
    "\n",
    "# feed some events\n",
    "recommender.update(Event(user_a, item_b, context=np.array([1, 1])))\n",
    "recommender.update(Event(user_b, item_b, context=np.array([0, 2])))\n",
    "recommender.update(Event(user_a, item_a, context=np.array([1, 3])))"
   ]
  },
  {
   "cell_type": "markdown",
   "metadata": {},
   "source": [
    "Finally, context-aware recommendation is launched as:"
   ]
  },
  {
   "cell_type": "code",
   "execution_count": 41,
   "metadata": {},
   "outputs": [
    {
     "data": {
      "text/plain": [
       "array([0, 1])"
      ]
     },
     "execution_count": 41,
     "metadata": {},
     "output_type": "execute_result"
    }
   ],
   "source": [
    "# make recommendation to `user_c`\n",
    "candidates = np.array([0, 1])\n",
    "recommended_items, scores = recommender.recommend(user_c, candidates, context=np.array([0, 4]))  # pass current context\n",
    "recommended_items"
   ]
  },
  {
   "cell_type": "markdown",
   "metadata": {},
   "source": [
    "## References"
   ]
  },
  {
   "cell_type": "markdown",
   "metadata": {},
   "source": [
    "### Algorithms\n",
    "\n",
    "FluRS currently supports the following recommendation algorithms:\n",
    "\n",
    "- Incremental Collaborative Filtering: `UserKNN`\n",
    "  - M. Pepagelis et al. **Incremental Collaborative Filtering for Highly-Scalable Recommendation Algorithms**. In *Foundations of Intelligent Systems*, pp. 553–561, Springer Berlin Heidelberg, 2005.\n",
    "- Incremental Matrix Factorization: `MF`\n",
    "  - J. Vinagre et al. **[Fast Incremental Matrix Factorization for Recommendation with Positive-only ](http://link.springer.com/chapter/10.1007/978-3-319-08786-3_41)**. In *Proc. of UMAP 2014*, pp. 459–470, July 2014.\n",
    "- Incremental Matrix Factorization with BPR optimization: `BPRMF`\n",
    "  - S. Rendle et al. **BPR: Bayesian Personalized Ranking from Implicit Feedback**. In *Proc. of UAI 2009*, pp. 452–461, June 2009.\n",
    "- Incremental Factorization Machines: `FM`\n",
    "  - T. Kitazawa. **[Incremental Factorization Machines for Persistently Cold-Starting Online Item Recommendation](https://arxiv.org/abs/1607.02858)**. arXiv:1607.02858 [cs.LG], July 2016.\n",
    "- Matrix Sketching: `OnlineSketch\n",
    "  - T. Kitazawa. **[Sketching Dynamic User-Item Interactions for Online Item Recommendation](http://dl.acm.org/citation.cfm?id=3022152)**. In *Proc. of CHIIR 2017*, March 2017."
   ]
  },
  {
   "cell_type": "markdown",
   "metadata": {},
   "source": [
    "### OSS for recommender systems\n",
    "\n",
    "- [Surprise](http://surpriselib.com/) (Python)\n",
    "- [fastFM](http://ibayer.github.io/fastFM/) (Python)\n",
    "- [Implicit](http://implicit.readthedocs.io/en/latest/) (Python)\n",
    "- [MyMediaLite](http://www.mymedialite.net/) (C#)\n",
    "- [LibRec](https://www.librec.net/) (Java)\n",
    "- [LensKit](http://lenskit.org/) (Java)\n",
    "\n",
    "If you are interested in recommendation on Apache Hadoop, Hive, Spark:\n",
    "\n",
    "- [Apache Mahout](http://mahout.apache.org/)\n",
    "- [Apache Hivemall](https://github.com/apache/incubator-hivemall)\n",
    "- [Spark MLlib](https://spark.apache.org/mllib/)"
   ]
  },
  {
   "cell_type": "code",
   "execution_count": null,
   "metadata": {
    "collapsed": true
   },
   "outputs": [],
   "source": []
  }
 ],
 "metadata": {
  "kernelspec": {
   "display_name": "Python 3",
   "language": "python",
   "name": "python3"
  },
  "language_info": {
   "codemirror_mode": {
    "name": "ipython",
    "version": 3
   },
   "file_extension": ".py",
   "mimetype": "text/x-python",
   "name": "python",
   "nbconvert_exporter": "python",
   "pygments_lexer": "ipython3",
   "version": "3.6.1"
  }
 },
 "nbformat": 4,
 "nbformat_minor": 1
}
