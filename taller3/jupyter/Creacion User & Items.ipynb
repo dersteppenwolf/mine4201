{
 "cells": [
  {
   "cell_type": "code",
   "execution_count": 2,
   "metadata": {},
   "outputs": [
    {
     "name": "stdout",
     "output_type": "stream",
     "text": [
      "Requirement already satisfied: flurs in c:\\users\\andrez\\miniconda3\\envs\\surprise\\lib\\site-packages\n",
      "Requirement already satisfied: scipy in c:\\users\\andrez\\miniconda3\\envs\\surprise\\lib\\site-packages (from flurs)\n",
      "Requirement already satisfied: numpy in c:\\users\\andrez\\miniconda3\\envs\\surprise\\lib\\site-packages (from flurs)\n",
      "Requirement already satisfied: scikit-learn in c:\\users\\andrez\\miniconda3\\envs\\surprise\\lib\\site-packages (from flurs)\n",
      "Requirement already satisfied: mmh3 in c:\\users\\andrez\\miniconda3\\envs\\surprise\\lib\\site-packages (from flurs)\n"
     ]
    }
   ],
   "source": [
    "!pip install flurs"
   ]
  },
  {
   "cell_type": "code",
   "execution_count": 3,
   "metadata": {},
   "outputs": [],
   "source": [
    "from flurs.data.entity import User, Item, Event\n",
    "\n",
    "import numpy as np\n",
    "import pandas as pd\n",
    "import time\n",
    "import os\n",
    "from calendar import monthrange\n",
    "from datetime import datetime, timedelta\n"
   ]
  },
  {
   "cell_type": "code",
   "execution_count": 7,
   "metadata": {},
   "outputs": [],
   "source": [
    "all_movies=pd.read_csv('ml-latest/movies.csv',sep=',', names=['movie_id','title','genres'], header=1)\n",
    "all_genres = ['Action',\n",
    "\t\t\t'Adventure',\n",
    "\t\t\t'Animation',\n",
    "\t\t\t\"Children\",\n",
    "\t\t\t'Comedy',\n",
    "\t\t\t'Crime',\n",
    "\t\t\t'Documentary',\n",
    "\t\t\t'Drama',\n",
    "\t\t\t'Fantasy',\n",
    "\t\t\t'Film-Noir',\n",
    "\t\t\t'Horror',\n",
    "\t\t\t'IMAX',\n",
    "\t\t\t'Musical',\n",
    "\t\t\t'Mystery',\n",
    "\t\t\t'Romance',\n",
    "\t\t\t'Sci-Fi',\n",
    "\t\t\t'Thriller',\n",
    "\t\t\t'War',\n",
    "\t\t\t'Western',\n",
    "\t\t\t'(no genres listed)']\n",
    "n_genre = len(all_genres)"
   ]
  },
  {
   "cell_type": "code",
   "execution_count": 9,
   "metadata": {},
   "outputs": [],
   "source": [
    "movies = {}\n",
    "movie_titles = {}\n",
    "for index, row in all_movies.iterrows():\n",
    "\tmovie_vec = np.zeros(n_genre)\n",
    "\tfor genre in row['genres'].split('|'):\n",
    "\t\ti = all_genres.index(genre)\n",
    "\t\tmovie_vec[i] = 1.\n",
    "\titem_id = int(row['movie_id'])\n",
    "\tmovies[item_id] = movie_vec\n",
    "\tmovie_titles[item_id] = row['title']"
   ]
  },
  {
   "cell_type": "code",
   "execution_count": 12,
   "metadata": {},
   "outputs": [],
   "source": [
    "items = []\n",
    "users = []\n",
    "\n",
    "#user_ids = []\n",
    "user_ids = [i for i in range(270900)]\n",
    "item_ids = []"
   ]
  },
  {
   "cell_type": "code",
   "execution_count": 18,
   "metadata": {},
   "outputs": [],
   "source": [
    "for mov in movies:\n",
    "    if mov not in item_ids:\n",
    "        item_ids.append(mov)\n",
    "        i_index = item_ids.index(mov)\n",
    "        item = Item(i_index, movies[mov])\n",
    "        items.append(item)"
   ]
  },
  {
   "cell_type": "code",
   "execution_count": 32,
   "metadata": {},
   "outputs": [],
   "source": [
    "for u_id in user_ids:\n",
    "    u_index = user_ids.index(u_id)\n",
    "    user = User(u_index)\n",
    "    users.append(user)"
   ]
  },
  {
   "cell_type": "code",
   "execution_count": 34,
   "metadata": {},
   "outputs": [
    {
     "data": {
      "text/plain": [
       "<flurs.data.entity.Event at 0x22db74d6550>"
      ]
     },
     "execution_count": 34,
     "metadata": {},
     "output_type": "execute_result"
    }
   ],
   "source": [
    "Event(users[0], items[0])"
   ]
  },
  {
   "cell_type": "code",
   "execution_count": 43,
   "metadata": {},
   "outputs": [
    {
     "data": {
      "text/plain": [
       "300"
      ]
     },
     "execution_count": 43,
     "metadata": {},
     "output_type": "execute_result"
    }
   ],
   "source": [
    "users[user_ids.index(300)]"
   ]
  },
  {
   "cell_type": "markdown",
   "metadata": {},
   "source": [
    "recommender1 = FMRecommender(p=28, k=2)\n",
    "recommender1.initialize()\n",
    "\n",
    "recommender2 = MFRecommender(k=30)\n",
    "recommender2.initialize()"
   ]
  },
  {
   "cell_type": "code",
   "execution_count": null,
   "metadata": {},
   "outputs": [],
   "source": [
    "#Recorrer el archivo de ratings\n",
    "#Buscar los indices en los users e items para crear el evento\n",
    "#adicionar el contexto al evento\n",
    "\n",
    "#Timestamp-> del archivo de ratings\n",
    "#rating-> del archivo de ratings\n",
    "#itemID-> del archivo de ratings\n",
    "#userID-> del archivo de ratings\n",
    "events = []\n",
    "\n",
    "date = datetime(*time.localtime(timestamp)[:6])\n",
    "\n",
    "weekday_vec = np.zeros(7)\n",
    "weekday_vec[date.weekday()] = 1\n",
    "\n",
    "others = np.concatenate((rating, weekday_vec))\n",
    "\n",
    "sample = Event(users[user_ids.index(userID)], items[item_ids.index(itemID)], 1., others)\n",
    "events.append(sample)"
   ]
  },
  {
   "cell_type": "code",
   "execution_count": null,
   "metadata": {},
   "outputs": [],
   "source": [
    "for e in events:\n",
    "    recommender1.update(e)\n",
    "    recommender2.update(e)"
   ]
  }
 ],
 "metadata": {
  "kernelspec": {
   "display_name": "Python 3",
   "language": "python",
   "name": "python3"
  },
  "language_info": {
   "codemirror_mode": {
    "name": "ipython",
    "version": 3
   },
   "file_extension": ".py",
   "mimetype": "text/x-python",
   "name": "python",
   "nbconvert_exporter": "python",
   "pygments_lexer": "ipython3",
   "version": "3.5.4"
  }
 },
 "nbformat": 4,
 "nbformat_minor": 2
}
