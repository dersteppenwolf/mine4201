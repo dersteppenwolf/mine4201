{
 "cells": [
  {
   "cell_type": "markdown",
   "metadata": {},
   "source": [
    "http://nicolewhite.github.io/neo4j-jupyter/hello-world.html\n",
    "\n",
    "https://www.quackit.com/neo4j/tutorial/neo4j_create_a_constraint_using_cypher.cfm\n",
    "\n",
    "https://www.quackit.com/neo4j/tutorial/neo4j_delete_a_relationship_using_cypher.cfm\n"
   ]
  },
  {
   "cell_type": "code",
   "execution_count": null,
   "metadata": {
    "collapsed": true
   },
   "outputs": [],
   "source": [
    "!pip install py2neo"
   ]
  },
  {
   "cell_type": "code",
   "execution_count": 1,
   "metadata": {
    "collapsed": true
   },
   "outputs": [],
   "source": [
    "from py2neo import Graph\n",
    "graph = Graph(password=\"neo4jneo4j\")"
   ]
  },
  {
   "cell_type": "code",
   "execution_count": null,
   "metadata": {
    "collapsed": true
   },
   "outputs": [],
   "source": [
    "\n",
    "query = \"\"\"\n",
    "    MATCH (n:Movie) \n",
    "    RETURN n \n",
    "    ORDER BY n.pagerank DESC\n",
    "    limit 6\n",
    "    \"\"\"\n",
    "\n",
    "data = graph.run(query)\n",
    "\n",
    "for d in data:\n",
    "    print(d)"
   ]
  },
  {
   "cell_type": "code",
   "execution_count": null,
   "metadata": {
    "collapsed": true
   },
   "outputs": [],
   "source": [
    "query = '''\n",
    "MATCH (user:User {userid: toInteger(114454)}) \n",
    "MATCH (movie:Movie {imdbid: 'tt0092099' }) \n",
    "MERGE (user)-[pu:RATED {id: toInteger(20461),  rating: toFloat(4.0),  \n",
    "on: toInteger(1141637448) }]->(movie)\n",
    "return pu;\n",
    "'''  \n",
    "data = graph.run(query)\n",
    "\n",
    "for d in data:\n",
    "    print(d)"
   ]
  },
  {
   "cell_type": "code",
   "execution_count": 46,
   "metadata": {},
   "outputs": [
    {
     "name": "stdout",
     "output_type": "stream",
     "text": [
      "('COUNT(r)': 6423352)\n"
     ]
    }
   ],
   "source": [
    "query =  '''\n",
    "MATCH (n)-[r:RATED]->()  RETURN COUNT(r)\n",
    "'''\n",
    "data = graph.run(query)\n",
    "\n",
    "for d in data:\n",
    "    print(d)"
   ]
  },
  {
   "cell_type": "code",
   "execution_count": 39,
   "metadata": {},
   "outputs": [
    {
     "name": "stdout",
     "output_type": "stream",
     "text": [
      "('path': (c799fc6)-[:RATED {id:6837306,on:1163654534,rating:4.0}]->(c4efc09)-[:BELONGS_TO]->(e9631e8)<-[:BELONGS_TO]-(a23b167))\n"
     ]
    }
   ],
   "source": [
    "query =  '''\n",
    "MATCH (u:User{userid : 172224}) , (m:Movie {imdbid : 'tt0203009'})\n",
    "MATCH path = shortestPath( (u)-[*..4]-(m) )\n",
    "RETURN path\n",
    "'''\n",
    "data = graph.run(query)\n",
    "\n",
    "for d in data:\n",
    "    print(d)"
   ]
  },
  {
   "cell_type": "code",
   "execution_count": 38,
   "metadata": {},
   "outputs": [
    {
     "name": "stdout",
     "output_type": "stream",
     "text": [
      "('r': (e8d4143)-[:RATED {day:\"2005-10-01\",on:1128212418,rating:4.5}]->(ed4f1b5))\n"
     ]
    }
   ],
   "source": [
    "query = '''  \n",
    "MATCH ()-[r:RATED {day:'2005-10-01'} ]->() \n",
    "RETURN  r  LIMIT 1 \n",
    "'''\n",
    "data = graph.run(query)\n",
    "\n",
    "for d in data:\n",
    "    print(d)"
   ]
  },
  {
   "cell_type": "code",
   "execution_count": 51,
   "metadata": {},
   "outputs": [
    {
     "name": "stdout",
     "output_type": "stream",
     "text": [
      "('r': (c7f6a86)-[:RATED {day:\"2004-01-15\",on:1074181384,rating:4.0}]->(e5ea943))\n",
      "('r': (f3872f5)-[:RATED {day:\"2004-01-12\",on:1073954096,rating:4.0}]->(e5ea943))\n",
      "('r': (bbd7e17)-[:RATED {day:\"2004-01-09\",on:1073677248,rating:5.0}]->(e5ea943))\n",
      "('r': (ed1b868)-[:RATED {day:\"2004-01-08\",on:1073611432,rating:4.0}]->(e5ea943))\n",
      "('r': (dd30a50)-[:RATED {day:\"2004-01-06\",on:1073425794,rating:4.0}]->(e5ea943))\n",
      "('r': (e127e0d)-[:RATED {day:\"2003-12-31\",on:1072908921,rating:4.0}]->(e5ea943))\n",
      "('r': (e1d50a3)-[:RATED {day:\"2003-12-14\",on:1071463562,rating:4.0}]->(e5ea943))\n",
      "('r': (cd640a5)-[:RATED {day:\"2003-12-09\",on:1071016062,rating:4.0}]->(e5ea943))\n",
      "('r': (f59b292)-[:RATED {day:\"2003-12-09\",on:1071004220,rating:4.0}]->(e5ea943))\n",
      "('r': (e90e54e)-[:RATED {day:\"2003-12-04\",on:1070593824,rating:4.0}]->(e5ea943))\n"
     ]
    }
   ],
   "source": [
    "query = '''  \n",
    "MATCH ()-[r:RATED  ]->() \n",
    "RETURN  r SKIP 500  LIMIT 10 \n",
    "'''\n",
    "data = graph.run(query)\n",
    "\n",
    "for d in data:\n",
    "    print(d)"
   ]
  },
  {
   "cell_type": "code",
   "execution_count": 24,
   "metadata": {
    "collapsed": true
   },
   "outputs": [],
   "source": [
    "query = '''\n",
    "MATCH ()-[r:RATED]->() \n",
    "WITH  r SKIP 50000 LIMIT 5000\n",
    "DELETE r\n",
    "'''\n",
    "data = graph.run(query)\n",
    "\n",
    "for d in data:\n",
    "    print(d)"
   ]
  },
  {
   "cell_type": "code",
   "execution_count": 37,
   "metadata": {},
   "outputs": [
    {
     "name": "stdout",
     "output_type": "stream",
     "text": [
      "2006-10-31 13:22:19 - ('r': (e27007b)-[:RATED {id:6816697,on:1162318939,rating:4.0}]->(b96e875), 'on': 1162318939)\n",
      "2006-10-17 04:36:12 - ('r': (f69f033)-[:RATED {id:6797275,on:1161077772,rating:4.0}]->(b96e875), 'on': 1161077772)\n",
      "2006-09-07 14:26:08 - ('r': (b6e3c5b)-[:RATED {id:6741580,on:1157657168,rating:4.0}]->(b96e875), 'on': 1157657168)\n",
      "2006-10-01 16:15:10 - ('r': (f61fd45)-[:RATED {id:6771640,on:1159737310,rating:4.0}]->(b96e875), 'on': 1159737310)\n",
      "2006-09-16 10:26:23 - ('r': (cb34eb4)-[:RATED {id:6753665,on:1158420383,rating:4.5}]->(b96e875), 'on': 1158420383)\n",
      "2006-11-19 17:48:06 - ('r': (b6edc61)-[:RATED {id:6841505,on:1163976486,rating:4.0}]->(f0d1cb8), 'on': 1163976486)\n",
      "2006-11-02 20:03:21 - ('r': (b8b4526)-[:RATED {id:6819084,on:1162515801,rating:4.0}]->(f0d1cb8), 'on': 1162515801)\n",
      "2006-10-29 16:57:51 - ('r': (bed45b2)-[:RATED {id:6814313,on:1162159071,rating:4.0}]->(f0d1cb8), 'on': 1162159071)\n",
      "2006-10-29 16:00:29 - ('r': (c8d8d68)-[:RATED {id:6813991,on:1162155629,rating:4.5}]->(f0d1cb8), 'on': 1162155629)\n",
      "2006-10-20 11:29:27 - ('r': (a1e586e)-[:RATED {id:6802772,on:1161361767,rating:4.5}]->(f0d1cb8), 'on': 1161361767)\n"
     ]
    }
   ],
   "source": [
    "import datetime\n",
    "query = '''  \n",
    "MATCH ()-[r:RATED  ]->() \n",
    "RETURN  r, r.on as on   LIMIT 10 \n",
    "'''\n",
    "data = graph.run(query)\n",
    "\n",
    "for d in data:\n",
    "    print(datetime.datetime.fromtimestamp(  int(d[\"on\"])   ).strftime('%Y-%m-%d %H:%M:%S') + \" - \"+ str(d)  )\n",
    "    \n",
    "\n",
    "    \n",
    "    "
   ]
  },
  {
   "cell_type": "code",
   "execution_count": null,
   "metadata": {
    "collapsed": true
   },
   "outputs": [],
   "source": []
  },
  {
   "cell_type": "code",
   "execution_count": null,
   "metadata": {
    "collapsed": true
   },
   "outputs": [],
   "source": []
  }
 ],
 "metadata": {
  "kernelspec": {
   "display_name": "Python 3",
   "language": "python",
   "name": "python3"
  },
  "language_info": {
   "codemirror_mode": {
    "name": "ipython",
    "version": 3
   },
   "file_extension": ".py",
   "mimetype": "text/x-python",
   "name": "python",
   "nbconvert_exporter": "python",
   "pygments_lexer": "ipython3",
   "version": "3.6.1"
  }
 },
 "nbformat": 4,
 "nbformat_minor": 1
}
